{
 "cells": [
  {
   "cell_type": "code",
   "execution_count": 6,
   "id": "subjective-carrier",
   "metadata": {},
   "outputs": [],
   "source": [
    "from pars import *"
   ]
  },
  {
   "cell_type": "code",
   "execution_count": 7,
   "id": "tropical-administration",
   "metadata": {},
   "outputs": [],
   "source": [
    "parser = Parser('data/controlling_ml.csv')"
   ]
  },
  {
   "cell_type": "code",
   "execution_count": 4,
   "id": "affected-chapter",
   "metadata": {},
   "outputs": [
    {
     "name": "stdout",
     "output_type": "stream",
     "text": [
      "fail for \n",
      "fail for \n",
      "fail for \n",
      "fail for \n",
      "fail for \n",
      "fail for \n",
      "fail for \n"
     ]
    }
   ],
   "source": [
    "parser.save_by_defects_or(folder='train/wide', defects_list=[22], pic_num=1, start=0, end=800)"
   ]
  },
  {
   "cell_type": "code",
   "execution_count": 5,
   "id": "constant-kingdom",
   "metadata": {},
   "outputs": [
    {
     "name": "stdout",
     "output_type": "stream",
     "text": [
      "fail for \n",
      "fail for \n",
      "fail for \n"
     ]
    }
   ],
   "source": [
    "parser.save_by_defects(folder='train/normal', defects_list=[], pic_num=1, start=0, end=800)"
   ]
  },
  {
   "cell_type": "code",
   "execution_count": 8,
   "id": "political-depth",
   "metadata": {},
   "outputs": [
    {
     "name": "stdout",
     "output_type": "stream",
     "text": [
      "fail for \n"
     ]
    }
   ],
   "source": [
    "parser.save_by_defects_or(folder='test/wide', defects_list=[22], pic_num=1, start=800, end=1000)"
   ]
  },
  {
   "cell_type": "code",
   "execution_count": 9,
   "id": "lesser-diana",
   "metadata": {},
   "outputs": [],
   "source": [
    "parser.save_by_defects(folder='test/normal', defects_list=[], pic_num=1, start=800, end=1000)"
   ]
  },
  {
   "cell_type": "code",
   "execution_count": null,
   "id": "unavailable-arrow",
   "metadata": {},
   "outputs": [],
   "source": []
  }
 ],
 "metadata": {
  "kernelspec": {
   "display_name": "Python 3",
   "language": "python",
   "name": "python3"
  },
  "language_info": {
   "codemirror_mode": {
    "name": "ipython",
    "version": 3
   },
   "file_extension": ".py",
   "mimetype": "text/x-python",
   "name": "python",
   "nbconvert_exporter": "python",
   "pygments_lexer": "ipython3",
   "version": "3.8.7"
  }
 },
 "nbformat": 4,
 "nbformat_minor": 5
}